{
 "cells": [
  {
   "cell_type": "code",
   "execution_count": null,
   "metadata": {},
   "outputs": [],
   "source": [
    "import json\n",
    "import numpy as np\n",
    "from collections import defaultdict"
   ]
  },
  {
   "cell_type": "code",
   "execution_count": null,
   "metadata": {},
   "outputs": [],
   "source": [
    "league = json.load(open('fbgm_fa.json','rb'))\n",
    "season = 2021\n",
    "for k in league['gameAttributes']:\n",
    "    if k['key'] == 'season':\n",
    "        season = k['value']"
   ]
  },
  {
   "cell_type": "code",
   "execution_count": null,
   "metadata": {},
   "outputs": [],
   "source": [
    "# for the form exp(x[0]*i)*x[1]\n",
    "# fit to FBGM team rating coeffcients \n",
    "# tweaks 0.25*QB1 for Backup QB, LB smoothed out by hand, backup K and P set to min weight of set\n",
    "pos_V = {'QB': [-1.396, 0.275],\n",
    " 'RB': [-1.49, 0.019],\n",
    " 'TE': [-1.527, 0.031],\n",
    " 'WR': [-0.524, 0.061],\n",
    " 'OL': [-0.213, 0.181],\n",
    " 'CB': [-0.568, 0.136],\n",
    " 'S': [-0.508, 0.101],\n",
    " 'LB': [-0.389, 0.072],\n",
    " 'DL': [-0.286, 0.234],\n",
    " 'K': [-4.386, 0.08],\n",
    " 'P': [-3.936, 0.051]}\n"
   ]
  },
  {
   "cell_type": "code",
   "execution_count": null,
   "metadata": {},
   "outputs": [],
   "source": [
    "pool = [] # this is the set of draftees OR FA pool as well\n",
    "\n",
    "teams = defaultdict(lambda: {k:[] for k in pos_V})"
   ]
  },
  {
   "cell_type": "code",
   "execution_count": null,
   "metadata": {},
   "outputs": [],
   "source": [
    "for p in league['players']:\n",
    "    # use VALUE instead of OVR to capture age+pot blend\n",
    "    pos = p['ratings'][0]['pos']\n",
    "    val = p['valueFuzz']\n",
    "    pid = p['pid']\n",
    "\n",
    "    # value is scaled for some positions\n",
    "    # scale back!\n",
    "    if pos == 'QB':\n",
    "        val /= 1.25\n",
    "    if pos == 'K' or pos == 'P':\n",
    "        val /= 0.25\n",
    "    \n",
    "    ppair = (pos,val,pid)\n",
    "\n",
    "    if p['tid'] >= 0 :\n",
    "        teams[p['tid']][ppair[0]].append(ppair[1])\n",
    "    # DRAFT\n",
    "    #elif p['draft']['year'] == season:\n",
    "    #    pool.append(ppair)\n",
    "    # FA\n",
    "    elif p['tid'] == -1:\n",
    "        pool.append(ppair)"
   ]
  },
  {
   "cell_type": "code",
   "execution_count": null,
   "metadata": {},
   "outputs": [],
   "source": [
    "def fbgm_value(team,weights):\n",
    "    teamvt = [v*np.exp(weights[0]*i)*weights[1] for i,v in enumerate(sorted(team,reverse=True))]\n",
    "    return sum(teamvt)"
   ]
  },
  {
   "cell_type": "code",
   "execution_count": null,
   "metadata": {},
   "outputs": [],
   "source": [
    "team_drafts = {}\n",
    "for tid,team in teams.items():\n",
    "    player_values = []\n",
    "    for pos,value,pid in pool:\n",
    "        pre_value = fbgm_value(team[pos], pos_V[pos])\n",
    "        post_value = fbgm_value(team[pos] + [value], pos_V[pos])\n",
    "        value_add = post_value-pre_value\n",
    "        player_values.append((value_add,pid,pos,value))\n",
    "    team_drafts[tid] = sorted(player_values,reverse=True)"
   ]
  },
  {
   "cell_type": "code",
   "execution_count": null,
   "metadata": {},
   "outputs": [],
   "source": [
    "team_drafts[0]"
   ]
  },
  {
   "cell_type": "code",
   "execution_count": null,
   "metadata": {},
   "outputs": [],
   "source": [
    "team_drafts[1]"
   ]
  },
  {
   "cell_type": "code",
   "execution_count": null,
   "metadata": {},
   "outputs": [],
   "source": []
  }
 ],
 "metadata": {
  "kernelspec": {
   "display_name": "Python 3",
   "language": "python",
   "name": "python3"
  },
  "language_info": {
   "codemirror_mode": {
    "name": "ipython",
    "version": 3
   },
   "file_extension": ".py",
   "mimetype": "text/x-python",
   "name": "python",
   "nbconvert_exporter": "python",
   "pygments_lexer": "ipython3",
   "version": "3.7.3"
  }
 },
 "nbformat": 4,
 "nbformat_minor": 2
}
