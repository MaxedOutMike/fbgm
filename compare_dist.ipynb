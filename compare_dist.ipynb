{
 "cells": [
  {
   "cell_type": "code",
   "execution_count": null,
   "metadata": {},
   "outputs": [],
   "source": [
    "import numpy as np\n",
    "import matplotlib.pyplot as plt\n",
    "import pandas as pd"
   ]
  },
  {
   "cell_type": "code",
   "execution_count": null,
   "metadata": {},
   "outputs": [],
   "source": [
    "def kl_mvn(m0, S0, m1, S1):\n",
    "    \"\"\"\n",
    "    Kullback-Liebler divergence from Gaussian pm,pv to Gaussian qm,qv.\n",
    "    Also computes KL divergence from a single Gaussian pm,pv to a set\n",
    "    of Gaussians qm,qv.\n",
    "    Diagonal covariances are assumed.  Divergence is expressed in nats.\n",
    "\n",
    "    - accepts stacks of means, but only one S0 and S1\n",
    "\n",
    "    From wikipedia\n",
    "    KL( (m0, S0) || (m1, S1))\n",
    "         = .5 * ( tr(S1^{-1} S0) + log |S1|/|S0| + \n",
    "                  (m1 - m0)^T S1^{-1} (m1 - m0) - N )\n",
    "    \"\"\"\n",
    "    # store inv diag covariance of S1 and diff between means\n",
    "    N = m0.shape[0]\n",
    "    iS1 = np.linalg.inv(S1)\n",
    "    diff = m1 - m0\n",
    "\n",
    "    # kl is made of three terms\n",
    "    tr_term   = np.trace(iS1 @ S0)\n",
    "    det_term  = np.log(np.linalg.det(S1)/np.linalg.det(S0)) #np.sum(np.log(S1)) - np.sum(np.log(S0))\n",
    "    quad_term = diff.T @ np.linalg.inv(S1) @ diff #np.sum( (diff*diff) * iS1, axis=1)\n",
    "    #print(tr_term,det_term,quad_term)\n",
    "    return .5 * (tr_term + det_term + quad_term - N) "
   ]
  },
  {
   "cell_type": "code",
   "execution_count": null,
   "metadata": {},
   "outputs": [],
   "source": [
    "gm = pd.read_csv('simmed_beta.csv')\n",
    "start_idx = list(gm.columns).index('Hgt')\n",
    "\n",
    "end_idx = list(gm.columns).index('PAc')\n",
    "rating_cols = list(gm.columns)[start_idx:end_idx+1]\n",
    "gm = gm[['Pos'] + rating_cols]\n"
   ]
  },
  {
   "cell_type": "code",
   "execution_count": null,
   "metadata": {},
   "outputs": [],
   "source": [
    "\n",
    "gm.iloc[:,1:] = np.array(gm.iloc[:,1:] + np.random.normal(0,1,size=(gm.iloc[:,1:].shape)))\n",
    "\n",
    "gm = gm[~gm.Pos.isin(['K','P'])]\n",
    "gmg = gm.groupby('Pos')#.mean()\n",
    "mean = gmg[rating_cols].mean()\n",
    "cov = gmg[rating_cols].cov()\n"
   ]
  },
  {
   "cell_type": "code",
   "execution_count": null,
   "metadata": {},
   "outputs": [],
   "source": [
    "tmpD = {}\n",
    "for pos in mean.index:\n",
    "    tmpDD = {}\n",
    "    for pos2 in mean.index:\n",
    "        #print(pos,pos2)\n",
    "        tmpDD[pos2] = kl_mvn(mean.loc[pos],cov.loc[pos],mean.loc[pos2],cov.loc[pos2])\n",
    "        if pos == pos2:\n",
    "            tmpDD[pos2] = 0\n",
    "    tmpD[pos] = tmpDD"
   ]
  },
  {
   "cell_type": "code",
   "execution_count": null,
   "metadata": {},
   "outputs": [],
   "source": [
    "from matplotlib.colors import LogNorm\n",
    "import matplotlib.cm\n",
    "\n",
    "tmpD_BBGM = tmpD\n",
    "cmap = matplotlib.cm.get_cmap('inferno_r')\n",
    "\n",
    "plt.imshow(pd.DataFrame(tmpD),norm=LogNorm(),cmap=cmap)\n",
    "plt.xticks(np.arange(len(mean.index)),mean.index)\n",
    "plt.yticks(np.arange(len(mean.index)),mean.index)\n",
    "plt.title('BBGM log of KL')"
   ]
  },
  {
   "cell_type": "code",
   "execution_count": null,
   "metadata": {},
   "outputs": [],
   "source": [
    "gm = pd.read_csv('simmed_stats.csv')\n",
    "start_idx = list(gm.columns).index('Hgt')\n",
    "\n",
    "end_idx = list(gm.columns).index('PAc')\n",
    "rating_cols = list(gm.columns)[start_idx:end_idx+1]\n",
    "gm = gm[['Pos'] + rating_cols]\n",
    "\n",
    "\n",
    "gm.iloc[:,1:] = np.array(gm.iloc[:,1:] + np.random.normal(0,1,size=(gm.iloc[:,1:].shape)))\n",
    "\n",
    "gm = gm[~gm.Pos.isin(['K','P'])]\n",
    "gmg = gm.groupby('Pos')#.mean()\n",
    "mean = gmg[rating_cols].mean()\n",
    "cov = gmg[rating_cols].cov()\n",
    "\n",
    "tmpD = {}\n",
    "for pos in mean.index:\n",
    "    tmpDD = {}\n",
    "    for pos2 in mean.index:\n",
    "        #print(pos,pos2)\n",
    "        tmpDD[pos2] = kl_mvn(mean.loc[pos],cov.loc[pos],mean.loc[pos2],cov.loc[pos2])\n",
    "        if pos == pos2:\n",
    "            tmpDD[pos2] = 0\n",
    "    tmpD[pos] = tmpDD\n",
    "    \n",
    "from matplotlib.colors import LogNorm\n",
    "import matplotlib.cm\n",
    "\n",
    "tmpD_BBGM_og = tmpD\n",
    "cmap = matplotlib.cm.get_cmap('inferno_r')\n",
    "\n",
    "plt.imshow(pd.DataFrame(tmpD),norm=LogNorm(),cmap=cmap)\n",
    "plt.xticks(np.arange(len(mean.index)),mean.index)\n",
    "plt.yticks(np.arange(len(mean.index)),mean.index)\n",
    "plt.title('BBGM log of KL')"
   ]
  },
  {
   "cell_type": "code",
   "execution_count": null,
   "metadata": {},
   "outputs": [],
   "source": [
    "gm = pd.read_csv('madden.csv')\n",
    "gm = gm.iloc[:,:-3]\n",
    "#gmg = gm.groupby('Pos')#.mean()\n",
    "fix_map = {'DL':['RE','LE','DT','DE'],\n",
    "           'OL':['LT','RT','C','LG','RG','OG','OT'],\n",
    "           'S':['SS','FS','DB'],\n",
    "           'RB':['HB','FB'],\n",
    "           'LB':['LOLB','ROLB','MLB','ILB','OLB','EDGE'],\n",
    "          }\n",
    "gm = gm[~gm.position.isin(['K','P'])]\n",
    "for new, old in fix_map.items():\n",
    "    gm.loc[gm.position.isin(old),'position'] = new\n",
    "gm.position.unique()\n"
   ]
  },
  {
   "cell_type": "code",
   "execution_count": null,
   "metadata": {},
   "outputs": [],
   "source": [
    "tdf = gm[[_ for _ in gm.columns if ('rating' in _ and 'ovr ' not in _) or (_ == 'position')]]\n",
    "tdf.iloc[:,1:] = np.array(tdf.iloc[:,1:] + np.random.normal(0,1,size=(tdf.iloc[:,1:].shape)))\n",
    "\n",
    "gmg = tdf.groupby('position')\n",
    "mean = gmg.mean()\n",
    "cov = gmg.cov()#.fillna(1e-2)\n",
    "#cov.loc['LT']"
   ]
  },
  {
   "cell_type": "code",
   "execution_count": null,
   "metadata": {},
   "outputs": [],
   "source": [
    "# fix singular matrix\n",
    "#sing_pos = ['K','P']\n",
    "#for pos in sing_pos:   \n",
    "#    cov.loc[pos]=np.array(np.identity(mean.shape[1])*1 +  cov.loc[pos])"
   ]
  },
  {
   "cell_type": "code",
   "execution_count": null,
   "metadata": {},
   "outputs": [],
   "source": [
    "tmpD = {}\n",
    "for pos in mean.index:\n",
    "    tmpDD = {}\n",
    "    for pos2 in mean.index:\n",
    "        #print(pos,pos2)\n",
    "        tmpDD[pos2] = kl_mvn(mean.loc[pos],cov.loc[pos],mean.loc[pos2],cov.loc[pos2])\n",
    "        if pos == pos2:\n",
    "            tmpDD[pos2] = 0\n",
    "    tmpD[pos] = tmpDD"
   ]
  },
  {
   "cell_type": "code",
   "execution_count": null,
   "metadata": {},
   "outputs": [],
   "source": [
    "from matplotlib.colors import LogNorm\n",
    "import matplotlib.cm\n",
    "madden_tmpD = tmpD\n",
    "plt.imshow(pd.DataFrame(tmpD),norm=LogNorm(),cmap=cmap)\n",
    "plt.xticks(np.arange(len(mean.index)),mean.index)\n",
    "plt.yticks(np.arange(len(mean.index)),mean.index)\n",
    "plt.title('madden log of KL')"
   ]
  },
  {
   "cell_type": "code",
   "execution_count": null,
   "metadata": {},
   "outputs": [],
   "source": [
    "combine = pd.concat([pd.read_html('2017_combine.htm')[-1],pd.read_html('2018_combine.htm')[-1],pd.read_html('2019_combine.htm')[-1]])\n",
    "combine = combine[['Pos','Ht','Wt','40yd','Vertical','Bench','Broad Jump','3Cone','Shuttle']].fillna('')\n",
    "combine =combine[~combine.iloc[:,2:].applymap(lambda x: x.isalpha()).any(1)]\n",
    "combine['Ht'] = combine['Ht'].map(lambda x: 12*int(x.split('-')[0]) + int(x.split('-')[1]))\n",
    "cols = [_ for _ in combine.columns if _ != 'Pos']\n",
    "combine[cols] = combine[cols].apply(pd.to_numeric, errors='coerce', axis=1)"
   ]
  },
  {
   "cell_type": "code",
   "execution_count": null,
   "metadata": {},
   "outputs": [],
   "source": [
    "\n",
    "combine = combine[~combine.Pos.isin(['K','P','LS',''])]\n",
    "for new, old in fix_map.items():\n",
    "    combine.loc[combine.Pos.isin(old),'Pos'] = new\n",
    "combine.Pos.unique()"
   ]
  },
  {
   "cell_type": "code",
   "execution_count": null,
   "metadata": {},
   "outputs": [],
   "source": [
    "combine.loc[combine.Pos=='QB','Bench'] = np.random.normal(16,5,size=sum(combine.Pos == 'QB'))\n",
    "print(combine)"
   ]
  },
  {
   "cell_type": "code",
   "execution_count": null,
   "metadata": {},
   "outputs": [],
   "source": [
    "### gmg = combine.groupby('Pos')\n",
    "mean = gmg.mean()\n",
    "cov = gmg.cov()#.fillna(1e-2)\n",
    "print(gmg.count())\n",
    "tmpD = {}\n",
    "for pos in mean.index:\n",
    "    tmpDD = {}\n",
    "    for pos2 in mean.index:\n",
    "        #print(pos,pos2)\n",
    "        tmpDD[pos2] = kl_mvn(mean.loc[pos],cov.loc[pos],mean.loc[pos2],cov.loc[pos2])\n",
    "        if pos == pos2:\n",
    "            tmpDD[pos2] = 0\n",
    "    tmpD[pos] = tmpDD"
   ]
  },
  {
   "cell_type": "code",
   "execution_count": null,
   "metadata": {},
   "outputs": [],
   "source": [
    "pos,pos2"
   ]
  },
  {
   "cell_type": "code",
   "execution_count": null,
   "metadata": {},
   "outputs": [],
   "source": [
    "from matplotlib.colors import LogNorm\n",
    "import matplotlib.cm\n",
    "\n",
    "plt.imshow(pd.DataFrame(tmpD),norm=LogNorm(),cmap=cmap)\n",
    "plt.xticks(np.arange(len(mean.index)),mean.index)\n",
    "plt.yticks(np.arange(len(mean.index)),mean.index)\n",
    "plt.title('combine log of KL')"
   ]
  },
  {
   "cell_type": "code",
   "execution_count": null,
   "metadata": {},
   "outputs": [],
   "source": [
    "plt.figure(dpi=120,figsize=(8,4))\n",
    "cmap = matplotlib.cm.get_cmap('inferno_r')\n",
    "\n",
    "plt.subplot(1,3,1)\n",
    "plt.style.use('seaborn-white')\n",
    "plt.imshow(pd.DataFrame(tmpD_BBGM),norm=LogNorm(),cmap=cmap)\n",
    "plt.xticks(np.arange(len(mean.index)),mean.index)\n",
    "plt.yticks(np.arange(len(mean.index)),mean.index)\n",
    "plt.title('FBGM beta log of KL')\n",
    "plt.subplot(1,3,2)\n",
    "d1 = pd.DataFrame(tmpD_BBGM_og)\n",
    "plt.imshow(d1,norm=LogNorm(),cmap=cmap)\n",
    "plt.xticks(np.arange(len(mean.index)),mean.index)\n",
    "plt.yticks(np.arange(len(mean.index)),mean.index)\n",
    "plt.title('FBGM log of KL')\n",
    "plt.subplot(1,3,3)\n",
    "d1 = pd.DataFrame(tmpD)\n",
    "plt.imshow(d1,norm=LogNorm(),cmap=cmap)\n",
    "plt.xticks(np.arange(len(mean.index)),mean.index)\n",
    "plt.yticks(np.arange(len(mean.index)),mean.index)\n",
    "plt.title('combine log of KL')\n",
    "plt.tight_layout()"
   ]
  },
  {
   "cell_type": "code",
   "execution_count": null,
   "metadata": {},
   "outputs": [],
   "source": [
    "d1 = pd.DataFrame(tmpD_BBGM)/pd.DataFrame(madden_tmpD)\n",
    "cmap = matplotlib.cm.get_cmap('RdBu_r')\n",
    "plt.imshow(d1,norm=LogNorm(),cmap=cmap)\n",
    "plt.xticks(np.arange(len(mean.index)),mean.index)\n",
    "plt.yticks(np.arange(len(mean.index)),mean.index)\n",
    "plt.title('BBGM Ratings vs. Madden\\nRed: BBGM too different, Blue: BBGM too similar')\n",
    "plt.tight_layout()"
   ]
  },
  {
   "cell_type": "code",
   "execution_count": null,
   "metadata": {},
   "outputs": [],
   "source": []
  }
 ],
 "metadata": {
  "kernelspec": {
   "display_name": "Python 3",
   "language": "python",
   "name": "python3"
  },
  "language_info": {
   "codemirror_mode": {
    "name": "ipython",
    "version": 3
   },
   "file_extension": ".py",
   "mimetype": "text/x-python",
   "name": "python",
   "nbconvert_exporter": "python",
   "pygments_lexer": "ipython3",
   "version": "3.7.3"
  }
 },
 "nbformat": 4,
 "nbformat_minor": 2
}
