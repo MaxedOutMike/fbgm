{
 "cells": [
  {
   "cell_type": "code",
   "execution_count": null,
   "metadata": {},
   "outputs": [],
   "source": [
    "import pandas as pd  \n",
    "import numpy as np  \n",
    "import matplotlib.pyplot as plt  \n",
    "from sklearn.linear_model import LinearRegression,Ridge,ElasticNet,ElasticNetCV,LassoCV,SGDRegressor,RidgeCV\n",
    "from collections import defaultdict\n",
    "import json\n",
    "import statsmodels.api as sm\n",
    "\n",
    "from sklearn.preprocessing import StandardScaler, PolynomialFeatures\n",
    "import lightgbm as lgb\n",
    "import os, sys\n",
    "\n",
    "import fnmatch"
   ]
  },
  {
   "cell_type": "code",
   "execution_count": null,
   "metadata": {},
   "outputs": [],
   "source": [
    "Xso = []\n",
    "y = []\n",
    "\n",
    "pos_Xs = defaultdict(list)\n",
    "pos_y = defaultdict(list) \n",
    "pos_min = defaultdict(list) \n",
    "\n",
    "for file in sorted(os.listdir('.')):\n",
    "    if fnmatch.fnmatch(file, 'FBGM_League*.json'):\n",
    "        print(file)\n",
    "        data = json.load(open(file,'rt',encoding='utf-8-sig'))\n",
    "        player_ratings = {}\n",
    "        player_pos = {}\n",
    "\n",
    "        valid_pos = set()\n",
    "        for p in data['players']:\n",
    "            for r in p['ratings']:\n",
    "                player_ratings[(p['pid'],r['season'])] ={k:v for k,v in r.items() if type(v) == int and k != 'season'}\n",
    "                player_pos[(p['pid'],r['season'])] =r['pos']\n",
    "\n",
    "                valid_pos.add(r['pos'])\n",
    "        for p in data['players']:\n",
    "            for r in p['stats']:\n",
    "                if r['min'] > 0:\n",
    "                    pos = player_pos[(p['pid'],r['season'])]\n",
    "                    pAV = r['av']\n",
    "                    if pAV:\n",
    "                        pos_Xs[pos].append(player_ratings[(p['pid'],r['season'])])\n",
    "                        pos_y[pos].append(float(pAV)/r['min'])\n",
    "                        pos_min[pos].append(r['min'])\n",
    "\n",
    "        valid_pos = sorted(list(valid_pos))\n",
    "        valid_col = [k for k in list(player_ratings.values())[0] if k not in ['min','pos','ovr','pot','injuryIndex']]\n",
    "        print(valid_pos)\n",
    "\n",
    "        for g in data['games']:\n",
    "            season = g['season']\n",
    "            if g['won']['tid'] == g['teams'][0]['tid']: #home team won\n",
    "                s = g['won']['pts'] - g['lost']['pts'] \n",
    "            else:\n",
    "                s =  g['lost']['pts'] - g['won']['pts']\n",
    "            y.append(s)\n",
    "            r2 = []\n",
    "            for i in range(2):\n",
    "                team_r = []\n",
    "                t = g['teams'][i]['players']\n",
    "                for p in t:\n",
    "                    pos = p['pos']\n",
    "                    mp = p['min']\n",
    "                    r = {k:mp*v for k,v in player_ratings[(p['pid'],season)].items()}\n",
    "                    r['pos'] = pos\n",
    "                    r['min'] = mp\n",
    "                    if mp > 0:\n",
    "                        team_r.append(r)\n",
    "                # dummies to make sure we have players at every pos\n",
    "                for p in valid_pos:\n",
    "                    r = {k:0 for k in r}\n",
    "                    r['pos'] = p\n",
    "                    r['min'] = 1e-9\n",
    "                    team_r.append(r)\n",
    "\n",
    "                # should be alphabetical\n",
    "                res = pd.DataFrame(team_r).groupby('pos').sum()\n",
    "                res2 = res.divide(res['min'],'rows')\n",
    "                ra = np.array(res2[valid_col])\n",
    "                r2.append(ra)\n",
    "            Xso.append(np.array(r2[0] - r2[1]).flatten())"
   ]
  },
  {
   "cell_type": "code",
   "execution_count": null,
   "metadata": {
    "scrolled": true
   },
   "outputs": [],
   "source": [
    "for pos in valid_pos:\n",
    "    print(pos)\n",
    "    #Xs = np.nan_to_num(pos_Xs[pos],0)\n",
    "    fx = StandardScaler()\n",
    "    y2 = np.array(pos_y[pos]).astype(float)\n",
    "    X3 = sm.add_constant(pd.DataFrame(fx.fit_transform(pd.DataFrame(pos_Xs[pos])[valid_col]),columns=valid_col))\n",
    "    est = sm.OLS(y2, X3)\n",
    "    est2 = est.fit()\n",
    "    print(est2.summary())"
   ]
  },
  {
   "cell_type": "code",
   "execution_count": null,
   "metadata": {},
   "outputs": [],
   "source": [
    "#X3.shape,y.shape"
   ]
  },
  {
   "cell_type": "code",
   "execution_count": null,
   "metadata": {},
   "outputs": [],
   "source": [
    "len(Xso),len(y)"
   ]
  },
  {
   "cell_type": "code",
   "execution_count": null,
   "metadata": {},
   "outputs": [],
   "source": [
    "plt.hist(y,20)"
   ]
  },
  {
   "cell_type": "code",
   "execution_count": null,
   "metadata": {
    "scrolled": true
   },
   "outputs": [],
   "source": [
    "\n",
    "Xs = np.nan_to_num(Xso,0)\n",
    "fx = StandardScaler()\n",
    "X2 = Xs#fx.fit_transform(Xs)\n",
    "y = np.array(y).astype(float)\n",
    "\n",
    "reg = ElasticNetCV([.1,.7,.725,.75,.775,.8,.9,.95,.99,1],cv=10,positive=True,max_iter=1e4)#(alpha=0.1,l1_ratio=0.7)#CV(cv=10)#ElasticNetCV(.7,cv=10,)\n",
    "#reg = lgb.LGBMRegressor()\n",
    "reg.fit(X2,y)\n",
    "print(Xs.shape,reg.score(X2,y))"
   ]
  },
  {
   "cell_type": "code",
   "execution_count": null,
   "metadata": {},
   "outputs": [],
   "source": [
    "\n",
    "plt.style.use('seaborn-white')\n",
    "plt.scatter(reg.predict(X2),y,s=10,alpha=0.5)\n",
    "plt.ylim(-60,60)\n",
    "plt.xlim(-60,60)\n",
    "plt.xlabel('predicted margin')\n",
    "plt.ylabel('actual margin')"
   ]
  },
  {
   "cell_type": "code",
   "execution_count": null,
   "metadata": {},
   "outputs": [],
   "source": [
    "#sorted([(i,n) for i,n in zip(reg.feature_importances_,exp_lbl) if 'LB' in n],reverse=True)"
   ]
  },
  {
   "cell_type": "code",
   "execution_count": null,
   "metadata": {},
   "outputs": [],
   "source": [
    "reg.l1_ratio_"
   ]
  },
  {
   "cell_type": "code",
   "execution_count": null,
   "metadata": {},
   "outputs": [],
   "source": [
    "exp_lbl = sum([[str(p) + '_' + str(s) for s in valid_col] for p in valid_pos],[])"
   ]
  },
  {
   "cell_type": "code",
   "execution_count": null,
   "metadata": {
    "scrolled": true
   },
   "outputs": [],
   "source": [
    "X3 = sm.add_constant(pd.DataFrame(X2,columns=exp_lbl))\n",
    "est = sm.OLS(y, X3)\n",
    "est2 = est.fit()\n",
    "print(est2.summary())"
   ]
  },
  {
   "cell_type": "code",
   "execution_count": null,
   "metadata": {},
   "outputs": [],
   "source": [
    "print('home field adv is {:.1f} points'.format(reg.intercept_))"
   ]
  },
  {
   "cell_type": "code",
   "execution_count": null,
   "metadata": {},
   "outputs": [],
   "source": [
    "future_use = defaultdict(dict)\n",
    "ratings_per_pos = reg.coef_.reshape((len(valid_pos),-1))\n",
    "df_rate = pd.DataFrame(ratings_per_pos,index=valid_pos,columns=valid_col)\n",
    "for row in df_rate.iterrows():\n",
    "    res = sorted([(abs(v),k) for k,v in row[1].items()],reverse=True)\n",
    "    print(row[0]+' : { ')\n",
    "    for i in range(len(res)):\n",
    "        if np.linalg.norm(row[1][res[i][1]]) > 0:\n",
    "            future_use[row[0]][res[i][1]] = row[1][res[i][1]]\n",
    "            print('\\t{}: [{:.3f}, 1],'.format(res[i][1],row[1][res[i][1]]))\n",
    "    print('},')"
   ]
  },
  {
   "cell_type": "code",
   "execution_count": null,
   "metadata": {},
   "outputs": [],
   "source": [
    "ratings_to_use = [k for k,v in (est2.pvalues < 0.1).items() if v if k != 'const']\n",
    "reg_small = ElasticNetCV(positive=True,cv=10)\n",
    "reg_small.fit(Xs[:,[list(exp_lbl).index(r) for r in ratings_to_use]],y)"
   ]
  },
  {
   "cell_type": "code",
   "execution_count": null,
   "metadata": {},
   "outputs": [],
   "source": [
    "res = sorted([(abs(v),k) for k,v in zip(ratings_to_use,reg_small.coef_) if 'WR' in k],reverse=True)\n",
    "for v,k in res:\n",
    "    print('{}\\t{}\\t{:.3f}'.format('',k,v))\n",
    "print()"
   ]
  },
  {
   "cell_type": "code",
   "execution_count": null,
   "metadata": {},
   "outputs": [],
   "source": []
  },
  {
   "cell_type": "code",
   "execution_count": null,
   "metadata": {},
   "outputs": [],
   "source": [
    "rts = defaultdict(list)\n",
    "for file in sorted(os.listdir('.')):\n",
    "    if fnmatch.fnmatch(file, 'FBGM_League*.json'):\n",
    "        print(file)\n",
    "        data = json.load(open(file,'rt',encoding='utf-8-sig'))\n",
    "\n",
    "\n",
    "        valid_pos = set()\n",
    "        for p in data['players']:\n",
    "            for r in p['ratings']:\n",
    "                r2 = sum([future_use[r['pos']][k]*v for k,v in r.items() if type(v) == int and k != 'season' and k in future_use[r['pos']]])\n",
    "                rts[r['pos']].append((r['ovr'],r2))"
   ]
  },
  {
   "cell_type": "code",
   "execution_count": null,
   "metadata": {},
   "outputs": [],
   "source": [
    "\n",
    "i=1\n",
    "for pos, results in rts.items():\n",
    "    print(pos)\n",
    "    plt.subplot(3,4,i)\n",
    "    plt.title(pos)\n",
    "    A = np.array(results)\n",
    "    plt.scatter(A[:,0],A[:,1],s=5,alpha=0.5)\n",
    "    plt.xlabel('current OVR')\n",
    "    plt.yticks([],[])\n",
    "    i+=1\n",
    "plt.suptitle('Alt OVR comp',size=18,weight='bold',y=1.02)\n",
    "plt.tight_layout()"
   ]
  },
  {
   "cell_type": "code",
   "execution_count": null,
   "metadata": {},
   "outputs": [],
   "source": [
    "sorted([(round(sum(v.values()),2),k) for k,v in future_use.items()],reverse=True)"
   ]
  },
  {
   "cell_type": "code",
   "execution_count": null,
   "metadata": {},
   "outputs": [],
   "source": []
  },
  {
   "cell_type": "code",
   "execution_count": null,
   "metadata": {},
   "outputs": [],
   "source": [
    "rts = defaultdict(list)\n",
    "\n",
    "player_ratings = {}\n",
    "player_pos = {}\n",
    "player_r1 = {}\n",
    "player_r2 = {}\n",
    "\n",
    "\n",
    "\n",
    "for file in sorted(os.listdir('.')):\n",
    "    if fnmatch.fnmatch(file, 'FBGM_League*.json'):\n",
    "        print(file)\n",
    "        data = json.load(open(file,'rt',encoding='utf-8-sig'))\n",
    "\n",
    "\n",
    "        valid_pos = set()\n",
    "        for p in data['players']:\n",
    "            for r in p['ratings']:\n",
    "                r2 = sum([future_use[r['pos']][k]*v for k,v in r.items() if type(v) == int and k != 'season' and k in future_use[r['pos']]])\n",
    "                \n",
    "                key = (file,p['pid'],r['season'])\n",
    "                player_ratings[key] ={k:v for k,v in r.items() if type(v) == int and k != 'season'}\n",
    "                player_pos[key] =r['pos']\n",
    "                player_r1[key] = r['ovr']\n",
    "                player_r2[key] = r2\n",
    "\n",
    "                valid_pos.add(r['pos'])"
   ]
  },
  {
   "cell_type": "code",
   "execution_count": null,
   "metadata": {},
   "outputs": [],
   "source": [
    "base = json.load(open('base_ur.json','rt',encoding='utf-8-sig'))\n",
    "print(len(base['players']))\n",
    "base['players'] = [_ for _ in base['players'] if _['tid'] != 31]\n",
    "base['players'] = [_ for _ in base['players'] if _['tid'] != 30]\n",
    "\n",
    "print(len(base['players']))\n",
    "del base['teams'][-1]['depth']\n",
    "del base['teams'][-1]['stats']\n",
    "max_pid = max([_['pid'] for _ in base['players']])\n",
    "base['gameAttributes'][-2]['value'] = 31\n",
    "base['gameAttributes'][-1]['value'] = [31]\n"
   ]
  },
  {
   "cell_type": "code",
   "execution_count": null,
   "metadata": {},
   "outputs": [],
   "source": [
    "count = {'QB':3,'RB':4,'WR':6,'TE':3,'OL':9,'K':1,'P':1,'DL':9,'LB':7,'CB':5,'S':5}\n",
    "\n",
    "min_ovr = {'QB':45,'RB':35,'WR':35,'TE':35,'OL':56,'K':70,'P':70,'DL':57,'LB':50,'CB':48,'S':50}\n",
    "alt_t = []\n",
    "\n",
    "for p,N in count.items():\n",
    "    mo = min_ovr[p]\n",
    "    pc = {k:v for k,v in player_r1.items() if v < mo and player_pos[k] == p}\n",
    "    alts = sorted([(player_r2[k],k) for k in pc],reverse=True)\n",
    "    done_set = set()\n",
    "    i = 0\n",
    "    icnt = len(alt_t)\n",
    "    while len(alt_t) < icnt + N:\n",
    "        _, k = alts[i]\n",
    "        if k not in done_set:\n",
    "            player = {'ratings':[player_ratings[k]],'pos':p}\n",
    "            alt_t.append(player)\n",
    "            done_set.add(k)\n",
    "        i+=1\n",
    "for p in alt_t:\n",
    "    p['born'] =  {'year': 1994, 'loc': 'USA'}\n",
    "    p['pid'] = max_pid\n",
    "    p['tid'] = 31\n",
    "    max_pid += 1\n",
    "    base['players'].append(p)"
   ]
  },
  {
   "cell_type": "code",
   "execution_count": null,
   "metadata": {},
   "outputs": [],
   "source": [
    "min_ovr = {'QB':65,'RB':65,'WR':65,'TE':65,'OL':62,'K':50,'P':50,'DL':55,'LB':55,'CB':60,'S':60}\n",
    "\n",
    "alt_t = []\n",
    "\n",
    "for p,N in count.items():\n",
    "    mo = min_ovr[p]\n",
    "    pc = {k:v for k,v in player_r1.items() if v > mo and player_pos[k] == p}\n",
    "    alts = sorted([(player_r2[k],k) for k in pc])#,reverse=True)\n",
    "    done_set = set()\n",
    "    i = 0\n",
    "    icnt = len(alt_t)\n",
    "    while len(alt_t) < icnt + N:\n",
    "        _, k = alts[i]\n",
    "        if k not in done_set:\n",
    "            player = {'ratings':[player_ratings[k]],'pos':p}\n",
    "            alt_t.append(player)\n",
    "            done_set.add(k)\n",
    "        i+=1\n",
    "for p in alt_t:\n",
    "    p['born'] =  {'year': 1994, 'loc': 'USA'}\n",
    "    p['pid'] = max_pid\n",
    "    p['tid'] = 30\n",
    "    max_pid += 1\n",
    "    base['players'].append(p)"
   ]
  },
  {
   "cell_type": "code",
   "execution_count": null,
   "metadata": {},
   "outputs": [],
   "source": []
  },
  {
   "cell_type": "code",
   "execution_count": null,
   "metadata": {},
   "outputs": [],
   "source": [
    "with open('overunder.json','wt') as fp:\n",
    "    json.dump(base,fp)"
   ]
  },
  {
   "cell_type": "code",
   "execution_count": null,
   "metadata": {},
   "outputs": [],
   "source": [
    "p"
   ]
  },
  {
   "cell_type": "code",
   "execution_count": null,
   "metadata": {},
   "outputs": [],
   "source": []
  },
  {
   "cell_type": "code",
   "execution_count": null,
   "metadata": {},
   "outputs": [],
   "source": []
  },
  {
   "cell_type": "code",
   "execution_count": null,
   "metadata": {},
   "outputs": [],
   "source": []
  }
 ],
 "metadata": {
  "kernelspec": {
   "display_name": "Python 3",
   "language": "python",
   "name": "python3"
  },
  "language_info": {
   "codemirror_mode": {
    "name": "ipython",
    "version": 3
   },
   "file_extension": ".py",
   "mimetype": "text/x-python",
   "name": "python",
   "nbconvert_exporter": "python",
   "pygments_lexer": "ipython3",
   "version": "3.7.3"
  }
 },
 "nbformat": 4,
 "nbformat_minor": 4
}
