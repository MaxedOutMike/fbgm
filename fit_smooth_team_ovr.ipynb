{
 "cells": [
  {
   "cell_type": "code",
   "execution_count": null,
   "metadata": {},
   "outputs": [],
   "source": [
    "import glob\n",
    "import json\n",
    "import matplotlib.pyplot as plt  \n",
    "import pandas as pd\n",
    "import numpy as np\n",
    "from sklearn.linear_model import LinearRegression\n",
    "from sklearn.metrics import r2_score\n",
    "\n",
    "def get_cols():\n",
    "    cols = {\n",
    "        'QB': [],\n",
    "        'RB1': [],\n",
    "        'RB2': [],\n",
    "        'TE1': [],\n",
    "        'TE2': [],\n",
    "        'WR1': [],\n",
    "        'WR2': [],\n",
    "        'WR3': [],\n",
    "        'WR4': [],\n",
    "        'WR5': [],\n",
    "        'OL1': [],\n",
    "        'OL2': [],\n",
    "        'OL3': [],\n",
    "        'OL4': [],\n",
    "        'OL5': [],\n",
    "        'CB1': [],\n",
    "        'CB2': [],\n",
    "        'CB3': [],\n",
    "        'S1': [],\n",
    "        'S2': [],\n",
    "        'S3': [],\n",
    "        'LB1': [],\n",
    "        'LB2': [],\n",
    "        'LB3': [],\n",
    "        'LB4': [],\n",
    "        'DL1': [],\n",
    "        'DL2': [],\n",
    "        'DL3': [],\n",
    "        'DL4': [],\n",
    "        'K': [],\n",
    "        'P': [],\n",
    "        \"mov\": [],\n",
    "    }\n",
    "    cols2 = []\n",
    "    files = glob.glob('data*.json')\n",
    "    files.sort()\n",
    "    print(files)\n",
    "\n",
    "    for file in files:\n",
    "        with open(file, \"r\", encoding='utf-8-sig') as read_file:\n",
    "            data = json.load(read_file)\n",
    "\n",
    "        def get_ovrs(tid, season):\n",
    "            ovrs_by_pos = {\n",
    "                'QB': [],\n",
    "                'RB': [],\n",
    "                'TE': [],\n",
    "                'WR': [],\n",
    "                'OL': [],\n",
    "                'CB': [],\n",
    "                'S': [],\n",
    "                'LB': [],\n",
    "                'DL': [],\n",
    "                'K': [],\n",
    "                'P': [],\n",
    "            }\n",
    "\n",
    "            for p in data['players']:\n",
    "                if tid in p['statsTids']:\n",
    "                    for ps in p['stats']:\n",
    "                        if ps['season'] == season and ps['tid'] == tid:\n",
    "                            found_ratings = False\n",
    "                            for pr in p['ratings']:\n",
    "                                if pr['season'] == season:\n",
    "                                    found_ratings = True\n",
    "                                    ovrs_by_pos[pr['pos']].append(pr['ovr'])\n",
    "                                    break\n",
    "                            if not found_ratings:\n",
    "                                raise Exception(\"No ratings found\")\n",
    "                            break\n",
    "                        elif ps['season'] > season:\n",
    "                            break\n",
    "\n",
    "            for key in ovrs_by_pos.keys():\n",
    "                ovrs_by_pos[key].sort(reverse=True)\n",
    "\n",
    "            return ovrs_by_pos\n",
    "\n",
    "        for t in data['teams']:\n",
    "            tid = t['tid']\n",
    "            for ts in t['stats']:\n",
    "                if not ts['playoffs'] and ts['gp'] > 0:\n",
    "                    season = ts['season']\n",
    "                    mov = (ts['pts'] - ts['oppPts']) / ts['gp'];\n",
    "                    cols['mov'].append(mov)\n",
    "\n",
    "                    ovrs = get_ovrs(tid, season)\n",
    "                    ovrs['mov'] = mov\n",
    "                    cols2.append(ovrs)\n",
    "                    default_ovr = 20\n",
    "\n",
    "                    cols['QB'].append(ovrs['QB'][0] if len(ovrs['QB']) >= 1 else default_ovr)\n",
    "                    cols['RB1'].append(ovrs['RB'][0] if len(ovrs['RB']) >= 1 else default_ovr)\n",
    "                    cols['RB2'].append(ovrs['RB'][1] if len(ovrs['RB']) >= 2 else default_ovr)\n",
    "                    cols['TE1'].append(ovrs['TE'][0] if len(ovrs['TE']) >= 1 else default_ovr)\n",
    "                    cols['TE2'].append(ovrs['TE'][1] if len(ovrs['TE']) >= 2 else default_ovr)\n",
    "                    cols['WR1'].append(ovrs['WR'][0] if len(ovrs['WR']) >= 1 else default_ovr)\n",
    "                    cols['WR2'].append(ovrs['WR'][1] if len(ovrs['WR']) >= 2 else default_ovr)\n",
    "                    cols['WR3'].append(ovrs['WR'][2] if len(ovrs['WR']) >= 3 else default_ovr)\n",
    "                    cols['WR4'].append(ovrs['WR'][3] if len(ovrs['WR']) >= 4 else default_ovr)\n",
    "                    cols['WR5'].append(ovrs['WR'][4] if len(ovrs['WR']) >= 5 else default_ovr)\n",
    "                    cols['OL1'].append(ovrs['OL'][0] if len(ovrs['OL']) >= 1 else default_ovr)\n",
    "                    cols['OL2'].append(ovrs['OL'][1] if len(ovrs['OL']) >= 2 else default_ovr)\n",
    "                    cols['OL3'].append(ovrs['OL'][2] if len(ovrs['OL']) >= 3 else default_ovr)\n",
    "                    cols['OL4'].append(ovrs['OL'][3] if len(ovrs['OL']) >= 4 else default_ovr)\n",
    "                    cols['OL5'].append(ovrs['OL'][4] if len(ovrs['OL']) >= 5 else default_ovr)\n",
    "                    cols['CB1'].append(ovrs['CB'][0] if len(ovrs['CB']) >= 1 else default_ovr)\n",
    "                    cols['CB2'].append(ovrs['CB'][1] if len(ovrs['CB']) >= 2 else default_ovr)\n",
    "                    cols['CB3'].append(ovrs['CB'][2] if len(ovrs['CB']) >= 3 else default_ovr)\n",
    "                    cols['S1'].append(ovrs['S'][0] if len(ovrs['S']) >= 1 else default_ovr)\n",
    "                    cols['S2'].append(ovrs['S'][1] if len(ovrs['S']) >= 2 else default_ovr)\n",
    "                    cols['S3'].append(ovrs['S'][2] if len(ovrs['S']) >= 3 else default_ovr)\n",
    "                    cols['LB1'].append(ovrs['LB'][0] if len(ovrs['LB']) >= 1 else default_ovr)\n",
    "                    cols['LB2'].append(ovrs['LB'][1] if len(ovrs['LB']) >= 2 else default_ovr)\n",
    "                    cols['LB3'].append(ovrs['LB'][2] if len(ovrs['LB']) >= 3 else default_ovr)\n",
    "                    cols['LB4'].append(ovrs['LB'][3] if len(ovrs['LB']) >= 4 else default_ovr)\n",
    "                    cols['DL1'].append(ovrs['DL'][0] if len(ovrs['DL']) >= 1 else default_ovr)\n",
    "                    cols['DL2'].append(ovrs['DL'][1] if len(ovrs['DL']) >= 2 else default_ovr)\n",
    "                    cols['DL3'].append(ovrs['DL'][2] if len(ovrs['DL']) >= 3 else default_ovr)\n",
    "                    cols['DL4'].append(ovrs['DL'][3] if len(ovrs['DL']) >= 4 else default_ovr)\n",
    "                    cols['K'].append(ovrs['K'][0] if len(ovrs['K']) >= 1 else default_ovr)\n",
    "                    cols['P'].append(ovrs['P'][0] if len(ovrs['P']) >= 1 else default_ovr)\n",
    "\n",
    "    return cols,cols2\n",
    "\n",
    "cols,cols2 = get_cols()\n",
    "\n",
    "dataset = pd.DataFrame(cols)"
   ]
  },
  {
   "cell_type": "code",
   "execution_count": null,
   "metadata": {},
   "outputs": [],
   "source": [
    "cols2"
   ]
  },
  {
   "cell_type": "code",
   "execution_count": null,
   "metadata": {},
   "outputs": [],
   "source": [
    "\n",
    "reg = LinearRegression(normalize=True)\n",
    "fit_cols = ['QB', 'RB1', 'RB2', 'TE1', 'TE2', 'WR1', 'WR2', 'WR3', 'WR4', 'WR5', 'OL1', 'OL2', 'OL3', 'OL4', 'OL5', 'CB1', 'CB2', 'CB3', 'S1', 'S2', 'S3', 'LB1', 'LB2', 'LB3', 'LB4', 'DL1', 'DL2', 'DL3', 'DL4', 'K', 'P']\n",
    "\n",
    "reg.fit(dataset[fit_cols], dataset['mov'])\n",
    "dataset['mov_predicted'] = reg.predict(dataset[fit_cols])\n",
    "alt_v = np.maximum(reg.coef_,0)\n",
    "print('Intercept: \\n', reg.intercept_)\n",
    "print('Coefficients: \\n', reg.coef_)\n",
    "print('r2: ', r2_score(dataset['mov'], dataset['mov_predicted']))\n",
    "for l,a in zip(fit_cols, 100*alt_v/alt_v.sum()):\n",
    "    print(l,'\\t',round(a,1))\n",
    "\n",
    "print(dataset)\n",
    "\n",
    "\n",
    "dataset.plot.hexbin(x='mov', y='mov_predicted', gridsize=20)\n",
    "# dataset.plot.scatter(x='mov', y='mov_predicted', alpha=0.2)\n",
    "plt.xlabel('Actual MOV')  \n",
    "plt.ylabel('Predicted MOV')  \n",
    "\n",
    "plt.plot([-20, 20], [-20, 20])\n",
    "\n",
    "plt.show()\n"
   ]
  },
  {
   "cell_type": "code",
   "execution_count": null,
   "metadata": {},
   "outputs": [],
   "source": [
    "fit_col_I = [''.join(filter(lambda x: x.isalpha(),_)) for _ in fit_cols]"
   ]
  },
  {
   "cell_type": "code",
   "execution_count": null,
   "metadata": {},
   "outputs": [],
   "source": [
    "from collections import defaultdict\n",
    "import scipy.optimize as opt\n",
    "\n",
    "init_s = defaultdict(list)\n",
    "# group groups\n",
    "for c,g in zip(reg.coef_,fit_col_I):\n",
    "    init_s[g].append(c)\n",
    "# add filler\n",
    "for s in init_s:\n",
    "    if len(init_s[s]) == 1:\n",
    "        init_s[s].append(init_s[s][0]/4)"
   ]
  },
  {
   "cell_type": "code",
   "execution_count": null,
   "metadata": {},
   "outputs": [],
   "source": []
  },
  {
   "cell_type": "code",
   "execution_count": null,
   "metadata": {},
   "outputs": [],
   "source": [
    "plt.style.use('fivethirtyeight')\n",
    "plt.style.use('seaborn-white')\n",
    "group_x = {}\n",
    "i = 1\n",
    "for group in init_s:\n",
    "    plt.subplot(4,3,i)\n",
    "    i+=1\n",
    "    data = init_s[group]\n",
    "    data = sorted(np.maximum(data,0),reverse=True)\n",
    "    def sig_fit(x):\n",
    "        return sum([(x[0]*(np.tanh(x[1]*i+x[2])/2+0.5)-c)**2 for i,c in enumerate(data)])\n",
    "\n",
    "    resx = opt.minimize(sig_fit,[data[0],-1,0])\n",
    "    optx = resx.x\n",
    "    group_x[group] = optx\n",
    "    #plt.figure()\n",
    "    plt.title(group)\n",
    "    plt.plot(data)\n",
    "    plt.grid(True)\n",
    "    plt.ylim(bottom=0)\n",
    "    plt.plot([optx[0]*(np.tanh(optx[1]*i+optx[2])/2+0.5) for i,c in enumerate(data)])\n",
    "#plt.tight_layout()"
   ]
  },
  {
   "cell_type": "code",
   "execution_count": null,
   "metadata": {},
   "outputs": [],
   "source": [
    "from sklearn.metrics import r2_score\n",
    "def rsquared(x, y):\n",
    "    \"\"\" Return R^2 where x and y are array-like.\"\"\"\n",
    "\n",
    "    slope, intercept, r_value, p_value, std_err = scipy.stats.linregress(x, y)\n",
    "    return r_value**2"
   ]
  },
  {
   "cell_type": "code",
   "execution_count": null,
   "metadata": {},
   "outputs": [],
   "source": [
    "num_x = len(group_x) * 3\n",
    "pos_key = sorted(group_x.keys())\n",
    "init_xO = np.hstack([group_x[p] for p in pos_key])\n",
    "init_x = np.hstack([group_x[p] for p in pos_key])# + [mean_x]"
   ]
  },
  {
   "cell_type": "code",
   "execution_count": null,
   "metadata": {},
   "outputs": [],
   "source": [
    "mov_target = [_['mov'] for _ in cols2]"
   ]
  },
  {
   "cell_type": "code",
   "execution_count": null,
   "metadata": {},
   "outputs": [],
   "source": [
    "import scipy\n",
    "def fit_coef(x):\n",
    "    xR = x.reshape((-1,3))\n",
    "    x_g = {p:x for p,x in zip(pos_key,xR)}\n",
    "    pmovs = []\n",
    "    for d in cols2:\n",
    "        pmov = 0\n",
    "        for p in pos_key:\n",
    "            ovrs = d.get(p,[])\n",
    "\n",
    "            for i,o in enumerate(ovrs):\n",
    "                x = x_g[p]\n",
    "                f = x[0]*(np.tanh(x[1]*i+x[2])/2+0.5)\n",
    "                pmov += f * o\n",
    "        pmovs.append(pmov)\n",
    "    return -rsquared(mov_target, pmovs)\n",
    "fit_coef(init_x)"
   ]
  },
  {
   "cell_type": "code",
   "execution_count": null,
   "metadata": {},
   "outputs": [],
   "source": [
    "#opt_res = opt.minimize(fit_coef,init_x)"
   ]
  },
  {
   "cell_type": "code",
   "execution_count": null,
   "metadata": {},
   "outputs": [],
   "source": [
    "import cma"
   ]
  },
  {
   "cell_type": "code",
   "execution_count": null,
   "metadata": {},
   "outputs": [],
   "source": [
    "es = cma.CMAEvolutionStrategy(init_x,0.01)\n",
    "es.optimize(fit_coef)"
   ]
  },
  {
   "cell_type": "code",
   "execution_count": null,
   "metadata": {},
   "outputs": [],
   "source": [
    "fit_coef(init_x),fit_coef(es.best.x),fit_coef(init_x)>fit_coef(es.best.x)"
   ]
  },
  {
   "cell_type": "code",
   "execution_count": null,
   "metadata": {},
   "outputs": [],
   "source": [
    "xR = es.best.x.reshape((-1,3))\n",
    "best_group = {p:x for p,x in zip(pos_key,xR)}\n",
    "init_x = es.best.x"
   ]
  },
  {
   "cell_type": "code",
   "execution_count": null,
   "metadata": {},
   "outputs": [],
   "source": [
    "plt.style.use('fivethirtyeight')\n",
    "plt.style.use('seaborn-white')\n",
    "i = 1\n",
    "plt.figure(figsize=(8,8))\n",
    "for group in init_s:\n",
    "    plt.subplot(4,3,i)\n",
    "    i+=1\n",
    "    data = init_s[group]\n",
    "    #data = sorted(np.maximum(data,0),reverse=True)\n",
    "    optx = best_group[group]\n",
    "    #plt.figure()\n",
    "    plt.title(group)\n",
    "    plt.plot(data)\n",
    "    plt.grid(True)\n",
    "    alt_vec = [optx[0]*(np.tanh(optx[1]*i+optx[2])/2+0.5) for i in range(len(data)+1)]\n",
    "    alt_vec = np.array(alt_vec)\n",
    "    #alt_vec *= max(data)/alt_vec[0]\n",
    "    plt.plot(alt_vec)\n",
    "    plt.ylim(bottom=0)\n",
    "\n",
    "    plt.tight_layout()"
   ]
  },
  {
   "cell_type": "code",
   "execution_count": null,
   "metadata": {},
   "outputs": [],
   "source": [
    "max(data)"
   ]
  },
  {
   "cell_type": "code",
   "execution_count": null,
   "metadata": {},
   "outputs": [],
   "source": [
    "old_init_x = np.array([ 0.65275177, -0.89241521,  1.59863404,  2.18819211, -0.34037103,\n",
    "        0.33929506,  0.48856575, -6.19370476,  0.41388857,  0.44215849,\n",
    "       -3.15943921,  4.97916601,  1.12291262, -0.58793127,  2.17572672,\n",
    "        2.80326994, -4.54268599, -1.19648499,  1.47707633, -5.20456951,\n",
    "        1.76582943,  0.3279489 , -0.24147471, -0.325921  ,  0.37174943,\n",
    "       -2.29992604,  4.81809201,  0.28041435, -2.72713033,  3.58258538,\n",
    "        0.17499069, -0.29672423,  0.76752692])"
   ]
  },
  {
   "cell_type": "code",
   "execution_count": null,
   "metadata": {},
   "outputs": [],
   "source": [
    "xR = old_init_x.reshape((-1,3))\n",
    "x_g = {p:x for p,x in zip(pos_key,xR)}\n",
    "pmovs = []\n",
    "for d in cols2:\n",
    "    pmov = 0\n",
    "    for p in pos_key:\n",
    "        ovrs = d.get(p,[])\n",
    "\n",
    "        for i,o in enumerate(ovrs):\n",
    "            x = x_g[p]\n",
    "            f = x[0]*(np.tanh(x[1]*i+x[2])/2+0.5)\n",
    "            pmov += f * o\n",
    "    pmovs.append(pmov)"
   ]
  },
  {
   "cell_type": "code",
   "execution_count": null,
   "metadata": {},
   "outputs": [],
   "source": [
    "ms,us = dataset['mov_predicted'].mean(),dataset['mov_predicted'].std()\n",
    "pmovs = np.array(pmovs)#.mean()\n",
    "plt.scatter(mov_target,ms+us*(pmovs-pmovs.mean())/pmovs.std())"
   ]
  },
  {
   "cell_type": "code",
   "execution_count": null,
   "metadata": {},
   "outputs": [],
   "source": [
    "plt.scatter(mov_target,dataset['mov_predicted'],s=5,alpha=0.5)\n",
    "plt.scatter(mov_target,ms+us*(pmovs-pmovs.mean())/pmovs.std(),s=5,alpha=0.5)"
   ]
  },
  {
   "cell_type": "code",
   "execution_count": null,
   "metadata": {},
   "outputs": [],
   "source": [
    "init_x"
   ]
  },
  {
   "cell_type": "code",
   "execution_count": null,
   "metadata": {},
   "outputs": [],
   "source": []
  }
 ],
 "metadata": {
  "kernelspec": {
   "display_name": "Python 3",
   "language": "python",
   "name": "python3"
  },
  "language_info": {
   "codemirror_mode": {
    "name": "ipython",
    "version": 3
   },
   "file_extension": ".py",
   "mimetype": "text/x-python",
   "name": "python",
   "nbconvert_exporter": "python",
   "pygments_lexer": "ipython3",
   "version": "3.7.3"
  }
 },
 "nbformat": 4,
 "nbformat_minor": 2
}
