{
 "cells": [
  {
   "cell_type": "code",
   "execution_count": null,
   "metadata": {},
   "outputs": [],
   "source": [
    "import numpy as np\n",
    "import pandas as pd\n",
    "import json\n",
    "import os, sys\n",
    "\n",
    "import fnmatch\n"
   ]
  },
  {
   "cell_type": "code",
   "execution_count": null,
   "metadata": {},
   "outputs": [],
   "source": [
    "\n",
    "weights = {'QB': {\n",
    "        'hgt': [1, 1],\n",
    "        'spd': [1, 1],\n",
    "        'endu': [1, 1],\n",
    "        'thv': [8, 1.5],\n",
    "        'thp': [4, 1.5],\n",
    "        'tha': [8, 1.5],\n",
    "        'bsc': [1, 1],\n",
    "        'elu': [1, 1],\n",
    "    },\n",
    "    'RB': {\n",
    "        'stre': [4, 1],\n",
    "        'spd': [8, 1],\n",
    "        'endu': [1, 1],\n",
    "        'elu': [8, 2],\n",
    "        'rtr': [1, 1],\n",
    "        'hnd': [2, 1],\n",
    "        'bsc': [4, 1],\n",
    "        'rbk': [1, 1],\n",
    "        'pbk': [2, 1],\n",
    "    },\n",
    "    'WR': {\n",
    "        'hgt': [2, 1],\n",
    "        'stre': [1, 1],\n",
    "        'spd': [4, 2],\n",
    "        'endu': [1, 1],\n",
    "        'elu': [1, 1],\n",
    "        'rtr': [4, 1],\n",
    "        'hnd': [8, 1],\n",
    "        'bsc': [1, 1],\n",
    "        'rbk': [1, 1],\n",
    "    },\n",
    "    'TE': {\n",
    "        'hgt': [4, 1],\n",
    "        'stre': [4, 2],\n",
    "        'spd': [1, 1],\n",
    "        'endu': [1, 1],\n",
    "        'elu': [1, 1],\n",
    "        'rtr': [4, 1],\n",
    "        'hnd': [4, 1],\n",
    "        'bsc': [1, 1],\n",
    "        'rbk': [2, 1],\n",
    "    },\n",
    "    'OL': {\n",
    "        'hgt': [1, 1],\n",
    "        'stre': [2, 3],\n",
    "        'spd': [1, 1],\n",
    "        'rbk': [2, 1],\n",
    "        'pbk': [2, 1],\n",
    "    },\n",
    "    'DL': {\n",
    "        'hgt': [4, 3],\n",
    "        'stre': [8, 3],\n",
    "        'spd': [2, 1],\n",
    "        'endu': [1, 1],\n",
    "        'prs': [8, 1],\n",
    "        'rns': [8, 1],\n",
    "        'hnd': [1, 1],\n",
    "    },\n",
    "    'LB': {\n",
    "        'hgt': [2, 3],\n",
    "        'stre': [4, 1],\n",
    "        'spd': [4, 1],\n",
    "        'endu': [1, 1],\n",
    "        'pcv': [2, 1],\n",
    "        'tck': [8, 1],\n",
    "        'prs': [2, 1],\n",
    "        'rns': [2, 1],\n",
    "        'hnd': [1, 1],\n",
    "    },\n",
    "    'CB': {\n",
    "        'hgt': [1, 1],\n",
    "        'stre': [1, 1],\n",
    "        'spd': [8, 2],\n",
    "        'endu': [1, 1],\n",
    "        'pcv': [8, 1],\n",
    "        'rns': [1, 1],\n",
    "        'hnd': [2, 1],\n",
    "    },\n",
    "    'S': {\n",
    "        'hgt': [1, 1],\n",
    "        'stre': [3, 1],\n",
    "        'spd': [4, 1.5],\n",
    "        'endu': [1, 1],\n",
    "        'pcv': [4, 1],\n",
    "        'tck': [4, 1],\n",
    "        'rns': [2, 1],\n",
    "        'hnd': [2, 1],\n",
    "    },\n",
    "    'K': {\n",
    "        'kpw': [1, 1],\n",
    "        'kac': [1, 1],\n",
    "    },\n",
    "    'P': {\n",
    "        'ppw': [1, 1],\n",
    "        'pac': [1, 1],\n",
    "    }\n",
    "}"
   ]
  },
  {
   "cell_type": "code",
   "execution_count": null,
   "metadata": {},
   "outputs": [],
   "source": [
    "df = pd.read_csv('update.csv')\n",
    "dft = df[['pid','Season']].groupby('pid').min()\n",
    "dft2 = df[['pid','Season']].groupby('pid').max()\n",
    "\n",
    "min_season = dict(dict(dft)['Season'])\n",
    "\n",
    "valid_pids = set(dft[(dft.Season > df.Season.min()) & (dft2.Season < df.Season.max())].index)\n",
    "\n",
    "# full_careers\n",
    "df = df[df.pid.isin(valid_pids)]\n",
    "\n",
    "col_list = list(df.columns)\n",
    "stats_to_pred = (df.columns[col_list.index('Hgt'):col_list.index('PAc')+1])\n",
    "from collections import defaultdict\n",
    "min_stats = {}\n",
    "year_offsets = defaultdict(list)\n",
    "for row in df.set_index(['pid','Season'])[stats_to_pred].itertuples():\n",
    "    #print(row)\n",
    "    pid = row[0][0]\n",
    "    year = row[0][1]-min_season[pid]\n",
    "    ratings = np.array(row[1:])\n",
    "    if year == 0:\n",
    "        min_stats[pid] = ratings\n",
    "    year_offsets[year].append(ratings-min_stats[pid])"
   ]
  },
  {
   "cell_type": "code",
   "execution_count": null,
   "metadata": {},
   "outputs": [],
   "source": [
    "year_off = {k: np.array(v).mean(0) for k,v in year_offsets.items()}"
   ]
  },
  {
   "cell_type": "code",
   "execution_count": null,
   "metadata": {},
   "outputs": [],
   "source": [
    "rosters = []\n",
    "for file in sorted(os.listdir('.')):\n",
    "    \n",
    "    if fnmatch.fnmatch(file, 'fbgm_roster_*.json'):\n",
    "        print(file)\n",
    "        #b, ext = os.path.splitext('/path/to/somefile.ext')\n",
    "        rosters.append(json.load(open(file,'rt')))"
   ]
  },
  {
   "cell_type": "code",
   "execution_count": null,
   "metadata": {},
   "outputs": [],
   "source": [
    "players = []\n",
    "top_year_list = defaultdict(list)\n",
    "for roster in rosters:\n",
    "    year = roster['startingSeason']\n",
    "    for p in roster['players']:\n",
    "        name = p['firstName'] + ' ' + p['lastName'] +' '+str(p['draft']['year'])\n",
    "        name = name.rstrip().strip()\n",
    "        tot = 0\n",
    "        for r,w in weights[p['pos']].items():\n",
    "            tot+=w[0]*p['ratings'][0][r]**w[1]\n",
    "    \n",
    "        if p['draft']['year'] >= 2002:\n",
    "            players.append(p)\n",
    "            top_year_list[name].append((tot,year,p))"
   ]
  },
  {
   "cell_type": "code",
   "execution_count": null,
   "metadata": {},
   "outputs": [],
   "source": [
    "list(range(10))[2:-2]"
   ]
  },
  {
   "cell_type": "code",
   "execution_count": null,
   "metadata": {},
   "outputs": [],
   "source": [
    "top_year = {}\n",
    "trimmed_mean =False\n",
    "for name,results in top_year_list.items():\n",
    "    sum_rating = defaultdict(float)\n",
    "    sum_year = 0\n",
    "    sum_w = 0\n",
    "    results = sorted(results,key=lambda x:x[0])\n",
    "    i = len(results)\n",
    "    # trimmed mean should be unbiased\n",
    "    if trimmed_mean:\n",
    "        sk = int(round(0.2*i))\n",
    "        r2 = results[sk:i-sk]\n",
    "        if len(r2) > 0:\n",
    "            results = r2\n",
    "            #print(sk,i-sk,i,len(results))\n",
    "        else:\n",
    "            pass #print('skipped ',sk,i)\n",
    "    for s,y,r in results:\n",
    "        if trimmed_mean:\n",
    "            s = 1\n",
    "        sum_w += s\n",
    "        sum_year += y*s\n",
    "        for k in r['ratings'][0]:\n",
    "            if k == 'pos':\n",
    "                continue\n",
    "            sum_rating[k] += r['ratings'][0][k]*s\n",
    "\n",
    "    mean_rating = {k:v/sum_w for k,v in sum_rating.items()}\n",
    "    mean_year = sum_year/sum_w\n",
    "\n",
    "    tmp = results[0][2]\n",
    "    for k in tmp['ratings'][0]:\n",
    "        tmp['ratings'][0][k] = mean_rating.get(k,tmp['ratings'][0][k])\n",
    "    top_year[name] = (sum_w,int(round(mean_year)),tmp)"
   ]
  },
  {
   "cell_type": "code",
   "execution_count": null,
   "metadata": {},
   "outputs": [],
   "source": [
    "top_year['Adrian Peterson 2007']"
   ]
  },
  {
   "cell_type": "code",
   "execution_count": null,
   "metadata": {},
   "outputs": [],
   "source": [
    "l2 = [_.lower() for _ in stats_to_pred]\n",
    "l2[1] = 'stre'\n",
    "l2[3] = 'endu'\n",
    "l2[-7] = 'tck'"
   ]
  },
  {
   "cell_type": "code",
   "execution_count": null,
   "metadata": {},
   "outputs": [],
   "source": [
    "import copy\n",
    "for roster in copy.deepcopy(rosters):\n",
    "    year = roster['startingSeason']\n",
    "\n",
    "    for _,yr,ratings_o in list(top_year.values()):\n",
    "        if ratings_o['draft']['year'] > year and yr >= year:\n",
    "            ratings = copy.deepcopy(ratings_o)\n",
    "            for o, s in zip(year_off[yr-year],l2):\n",
    "                ratings['ratings'][0][s] = int(round(np.clip(ratings['ratings'][0][s] + o,0,100)))\n",
    "            ratings['draft']['year'] = ratings['draft']['year']-1\n",
    "            ratings['tid'] = -2\n",
    "            roster['players'].append(ratings)\n",
    "            #if 'Rodgers' in ratings['lastName']:\n",
    "            #    print(year,ratings)\n",
    "\n",
    "    with open('fbgm_draft_{}.json'.format(year),'wt') as fp:\n",
    "        json.dump(roster,fp, sort_keys=True)"
   ]
  },
  {
   "cell_type": "code",
   "execution_count": null,
   "metadata": {},
   "outputs": [],
   "source": [
    "[_['startingSeason'] for _ in rosters]"
   ]
  },
  {
   "cell_type": "code",
   "execution_count": null,
   "metadata": {},
   "outputs": [],
   "source": [
    "#top_year['Ron Johnson'],top_year['David Carr'],top_year['Julius Peppers'],top_year['Aaron Rodgers']"
   ]
  },
  {
   "cell_type": "code",
   "execution_count": null,
   "metadata": {},
   "outputs": [],
   "source": [
    "[_ for _ in roster['players'] if 'Manziel' in _['lastName']]"
   ]
  },
  {
   "cell_type": "code",
   "execution_count": null,
   "metadata": {},
   "outputs": [],
   "source": [
    "top_year['Johnny Manziel']"
   ]
  },
  {
   "cell_type": "code",
   "execution_count": null,
   "metadata": {},
   "outputs": [],
   "source": []
  },
  {
   "cell_type": "code",
   "execution_count": null,
   "metadata": {},
   "outputs": [],
   "source": [
    "ratings"
   ]
  },
  {
   "cell_type": "code",
   "execution_count": null,
   "metadata": {},
   "outputs": [],
   "source": []
  }
 ],
 "metadata": {
  "kernelspec": {
   "display_name": "Python 3",
   "language": "python",
   "name": "python3"
  },
  "language_info": {
   "codemirror_mode": {
    "name": "ipython",
    "version": 3
   },
   "file_extension": ".py",
   "mimetype": "text/x-python",
   "name": "python",
   "nbconvert_exporter": "python",
   "pygments_lexer": "ipython3",
   "version": "3.7.3"
  }
 },
 "nbformat": 4,
 "nbformat_minor": 2
}
